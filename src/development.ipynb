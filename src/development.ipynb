{
 "cells": [
  {
   "cell_type": "code",
   "execution_count": 1,
   "id": "cfc00f9c",
   "metadata": {},
   "outputs": [],
   "source": [
    "from node import Node\n"
   ]
  },
  {
   "cell_type": "code",
   "execution_count": null,
   "id": "c9f42d91",
   "metadata": {},
   "outputs": [],
   "source": [
    "n = Node()"
   ]
  }
 ],
 "metadata": {
  "kernelspec": {
   "display_name": ".venv",
   "language": "python",
   "name": "python3"
  },
  "language_info": {
   "codemirror_mode": {
    "name": "ipython",
    "version": 3
   },
   "file_extension": ".py",
   "mimetype": "text/x-python",
   "name": "python",
   "nbconvert_exporter": "python",
   "pygments_lexer": "ipython3",
   "version": "3.11.13"
  }
 },
 "nbformat": 4,
 "nbformat_minor": 5
}
