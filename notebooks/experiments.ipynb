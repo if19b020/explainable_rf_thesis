{
 "cells": [
  {
   "cell_type": "code",
   "execution_count": null,
   "id": "d2c862bf",
   "metadata": {},
   "outputs": [],
   "source": [
    "from node import Node"
   ]
  }
 ],
 "metadata": {
  "kernelspec": {
   "display_name": ".venv",
   "language": "python",
   "name": "python3"
  },
  "language_info": {
   "name": "python",
   "version": "3.11.13"
  }
 },
 "nbformat": 4,
 "nbformat_minor": 5
}
